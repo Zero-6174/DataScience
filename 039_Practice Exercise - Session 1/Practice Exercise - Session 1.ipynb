{
 "cells": [
  {
   "cell_type": "code",
   "execution_count": 1,
   "metadata": {},
   "outputs": [],
   "source": [
    "#Import all the necessary libraries\n",
    "import pandas as pd\n",
    "import numpy as np\n",
    "import matplotlib.pyplot as plt"
   ]
  },
  {
   "cell_type": "markdown",
   "metadata": {},
   "source": [
    "### I - Virat Kohli Dataset"
   ]
  },
  {
   "cell_type": "code",
   "execution_count": 2,
   "metadata": {},
   "outputs": [],
   "source": [
    "df = pd.read_csv(\"virat.csv\")"
   ]
  },
  {
   "cell_type": "code",
   "execution_count": 3,
   "metadata": {},
   "outputs": [
    {
     "data": {
      "text/html": [
       "<div>\n",
       "<style scoped>\n",
       "    .dataframe tbody tr th:only-of-type {\n",
       "        vertical-align: middle;\n",
       "    }\n",
       "\n",
       "    .dataframe tbody tr th {\n",
       "        vertical-align: top;\n",
       "    }\n",
       "\n",
       "    .dataframe thead th {\n",
       "        text-align: right;\n",
       "    }\n",
       "</style>\n",
       "<table border=\"1\" class=\"dataframe\">\n",
       "  <thead>\n",
       "    <tr style=\"text-align: right;\">\n",
       "      <th></th>\n",
       "      <th>Runs</th>\n",
       "      <th>Mins</th>\n",
       "      <th>BF</th>\n",
       "      <th>4s</th>\n",
       "      <th>6s</th>\n",
       "      <th>SR</th>\n",
       "      <th>Pos</th>\n",
       "      <th>Dismissal</th>\n",
       "      <th>Inns</th>\n",
       "      <th>Opposition</th>\n",
       "      <th>Ground</th>\n",
       "      <th>Start Date</th>\n",
       "    </tr>\n",
       "  </thead>\n",
       "  <tbody>\n",
       "    <tr>\n",
       "      <th>0</th>\n",
       "      <td>12</td>\n",
       "      <td>33</td>\n",
       "      <td>22</td>\n",
       "      <td>1</td>\n",
       "      <td>0</td>\n",
       "      <td>54.54</td>\n",
       "      <td>2</td>\n",
       "      <td>lbw</td>\n",
       "      <td>1</td>\n",
       "      <td>v Sri Lanka</td>\n",
       "      <td>Dambulla</td>\n",
       "      <td>18-Aug-08</td>\n",
       "    </tr>\n",
       "    <tr>\n",
       "      <th>1</th>\n",
       "      <td>37</td>\n",
       "      <td>82</td>\n",
       "      <td>67</td>\n",
       "      <td>6</td>\n",
       "      <td>0</td>\n",
       "      <td>55.22</td>\n",
       "      <td>2</td>\n",
       "      <td>caught</td>\n",
       "      <td>2</td>\n",
       "      <td>v Sri Lanka</td>\n",
       "      <td>Dambulla</td>\n",
       "      <td>20-Aug-08</td>\n",
       "    </tr>\n",
       "    <tr>\n",
       "      <th>2</th>\n",
       "      <td>25</td>\n",
       "      <td>40</td>\n",
       "      <td>38</td>\n",
       "      <td>4</td>\n",
       "      <td>0</td>\n",
       "      <td>65.78</td>\n",
       "      <td>1</td>\n",
       "      <td>run out</td>\n",
       "      <td>1</td>\n",
       "      <td>v Sri Lanka</td>\n",
       "      <td>Colombo (RPS)</td>\n",
       "      <td>24-Aug-08</td>\n",
       "    </tr>\n",
       "    <tr>\n",
       "      <th>3</th>\n",
       "      <td>54</td>\n",
       "      <td>87</td>\n",
       "      <td>66</td>\n",
       "      <td>7</td>\n",
       "      <td>0</td>\n",
       "      <td>81.81</td>\n",
       "      <td>1</td>\n",
       "      <td>bowled</td>\n",
       "      <td>1</td>\n",
       "      <td>v Sri Lanka</td>\n",
       "      <td>Colombo (RPS)</td>\n",
       "      <td>27-Aug-08</td>\n",
       "    </tr>\n",
       "    <tr>\n",
       "      <th>4</th>\n",
       "      <td>31</td>\n",
       "      <td>45</td>\n",
       "      <td>46</td>\n",
       "      <td>3</td>\n",
       "      <td>1</td>\n",
       "      <td>67.39</td>\n",
       "      <td>1</td>\n",
       "      <td>lbw</td>\n",
       "      <td>2</td>\n",
       "      <td>v Sri Lanka</td>\n",
       "      <td>Colombo (RPS)</td>\n",
       "      <td>29-Aug-08</td>\n",
       "    </tr>\n",
       "  </tbody>\n",
       "</table>\n",
       "</div>"
      ],
      "text/plain": [
       "  Runs Mins  BF  4s  6s     SR  Pos Dismissal  Inns   Opposition  \\\n",
       "0   12   33  22   1   0  54.54    2       lbw     1  v Sri Lanka   \n",
       "1   37   82  67   6   0  55.22    2    caught     2  v Sri Lanka   \n",
       "2   25   40  38   4   0  65.78    1   run out     1  v Sri Lanka   \n",
       "3   54   87  66   7   0  81.81    1    bowled     1  v Sri Lanka   \n",
       "4   31   45  46   3   1  67.39    1       lbw     2  v Sri Lanka   \n",
       "\n",
       "          Ground Start Date  \n",
       "0       Dambulla  18-Aug-08  \n",
       "1       Dambulla  20-Aug-08  \n",
       "2  Colombo (RPS)  24-Aug-08  \n",
       "3  Colombo (RPS)  27-Aug-08  \n",
       "4  Colombo (RPS)  29-Aug-08  "
      ]
     },
     "execution_count": 3,
     "metadata": {},
     "output_type": "execute_result"
    }
   ],
   "source": [
    "df.head()"
   ]
  },
  {
   "cell_type": "markdown",
   "metadata": {},
   "source": [
    "#### Spread in Runs\n",
    "Question 1: Analyse the spread of Runs scored by Virat in all his matches and report the difference between the scores at the 50th percentile and the 25th percentile respectively.\n",
    "\n",
    "    a)16.5\n",
    "    b)22.5\n",
    "    c)26.5\n",
    "    d)32.5\n",
    "\n"
   ]
  },
  {
   "cell_type": "code",
   "execution_count": 4,
   "metadata": {},
   "outputs": [
    {
     "data": {
      "text/plain": [
       "Runs          object\n",
       "Mins          object\n",
       "BF             int64\n",
       "4s             int64\n",
       "6s             int64\n",
       "SR            object\n",
       "Pos            int64\n",
       "Dismissal     object\n",
       "Inns           int64\n",
       "Opposition    object\n",
       "Ground        object\n",
       "Start Date    object\n",
       "dtype: object"
      ]
     },
     "execution_count": 4,
     "metadata": {},
     "output_type": "execute_result"
    }
   ],
   "source": [
    "## Your code here\n",
    "df.dtypes"
   ]
  },
  {
   "cell_type": "code",
   "execution_count": 5,
   "metadata": {},
   "outputs": [],
   "source": [
    "df.Runs = df.Runs.apply(lambda x: x.replace('*', '') if '*' in x else x)"
   ]
  },
  {
   "cell_type": "code",
   "execution_count": 6,
   "metadata": {},
   "outputs": [
    {
     "data": {
      "text/plain": [
       "count    132.000000\n",
       "mean      46.848485\n",
       "std       41.994635\n",
       "min        0.000000\n",
       "25%       10.000000\n",
       "50%       32.500000\n",
       "75%       80.250000\n",
       "max      154.000000\n",
       "Name: Runs, dtype: float64"
      ]
     },
     "execution_count": 6,
     "metadata": {},
     "output_type": "execute_result"
    }
   ],
   "source": [
    "df.Runs = df.Runs.astype(\"int32\")\n",
    "df.Runs.describe(percentiles = [0.25, 0.5, 1])\n",
    "df.Runs.describe()"
   ]
  },
  {
   "cell_type": "markdown",
   "metadata": {},
   "source": [
    "#### Box Plots\n",
    "\n",
    "Question 2: Plot a Box Plot to analyse the spread of Runs that Virat has scored. The upper fence in the box plot lies in which interval?\n",
    "\n",
    "    a)100-120\n",
    "    b)120-140\n",
    "    c)140-160\n",
    "    d)160-180\n"
   ]
  },
  {
   "cell_type": "code",
   "execution_count": 7,
   "metadata": {},
   "outputs": [
    {
     "data": {
      "image/png": "[encoded data removed]",
      "text/plain": [
       "<Figure size 432x288 with 1 Axes>"
      ]
     },
     "metadata": {
      "needs_background": "light"
     },
     "output_type": "display_data"
    }
   ],
   "source": [
    "#Your code here\n",
    "plt.boxplot(df.Runs)\n",
    "plt.show()"
   ]
  },
  {
   "cell_type": "markdown",
   "metadata": {},
   "source": [
    "#### False Statement\n",
    "\n",
    "Q3:Consider the following statements and choose the correct option\n",
    "\n",
    "     I - Virat has played the maximum number of matches in 2011\n",
    "     II - Virat has the highest run average in the year 2017\n",
    "     III - Virat has the maximum score in a single match and the highest run average in the year 2016.\n",
    "\n",
    "Which of the above statements is/are false?\n",
    "\n",
    "    a)I and II\n",
    "    b)I and III\n",
    "    c)II\n",
    "    d)III\n",
    "\n"
   ]
  },
  {
   "cell_type": "code",
   "execution_count": 8,
   "metadata": {},
   "outputs": [
    {
     "name": "stdout",
     "output_type": "stream",
     "text": [
      "Year  2008       2009    2010  2011       2012       2013       2014  2015  \\\n",
      "Runs  31.8  38.333333  45.375  42.0  40.363636  47.826087  58.529412  30.4   \n",
      "\n",
      "Year  2016       2017  \n",
      "Runs  73.9  61.666667  \n",
      "Year  2008  2009  2010  2011  2012  2013  2014  2015  2016  2017\n",
      "Runs    54   107   118   117   128   115   139   138   154   122\n"
     ]
    }
   ],
   "source": [
    "## Your code herepd\n",
    "df['Year'] = pd.DatetimeIndex(df['Start Date']).year\n",
    "df.groupby('Year').max()\n",
    "\n",
    "df['Year'].value_counts()\n",
    "print (pd.pivot_table(df, values='Runs', columns=['Year'], aggfunc=np.mean))\n",
    "print (pd.pivot_table(df, values='Runs', columns=['Year'], aggfunc=np.max))"
   ]
  },
  {
   "cell_type": "markdown",
   "metadata": {},
   "source": [
    "#### Maximum Frequency\n",
    "\n",
    "Q4:Plot a histogram for the Mins column with 15 bins. Among the three ranges mentioned below, which one has the highest frequency?\n",
    "\n",
    "A - [54.6,68)\n",
    "\n",
    "B - [68,81.4)\n",
    "\n",
    "C - [121.6,135)\n",
    "\n",
    "    a)A - [54.6,68)\n",
    "    b)B - [68,81.4)\n",
    "    c)C - [121.6,135)\n",
    "    d)All the bin ranges have the same frequency\n"
   ]
  },
  {
   "cell_type": "code",
   "execution_count": 9,
   "metadata": {},
   "outputs": [],
   "source": [
    "#Your code here\n",
    "df = df[~(df['Mins']== \"-\")]\n",
    "df['Mins'] = df['Mins'].apply(lambda x: int(x))"
   ]
  },
  {
   "cell_type": "code",
   "execution_count": 10,
   "metadata": {},
   "outputs": [
    {
     "data": {
      "text/plain": [
       "dtype('int32')"
      ]
     },
     "execution_count": 10,
     "metadata": {},
     "output_type": "execute_result"
    }
   ],
   "source": [
    "df.Mins.dtype"
   ]
  },
  {
   "cell_type": "code",
   "execution_count": 12,
   "metadata": {},
   "outputs": [
    {
     "data": {
      "image/png": "[encoded data removed]",
      "text/plain": [
       "<Figure size 432x288 with 1 Axes>"
      ]
     },
     "metadata": {
      "needs_background": "light"
     },
     "output_type": "display_data"
    }
   ],
   "source": [
    "plt.hist(df.Mins, bins = 15)\n",
    "plt.show()"
   ]
  },
  {
   "cell_type": "code",
   "execution_count": null,
   "metadata": {},
   "outputs": [],
   "source": []
  }
 ],
 "metadata": {
  "kernelspec": {
   "display_name": "Python 3 (ipykernel)",
   "language": "python",
   "name": "python3"
  },
  "language_info": {
   "codemirror_mode": {
    "name": "ipython",
    "version": 3
   },
   "file_extension": ".py",
   "mimetype": "text/x-python",
   "name": "python",
   "nbconvert_exporter": "python",
   "pygments_lexer": "ipython3",
   "version": "3.9.12"
  }
 },
 "nbformat": 4,
 "nbformat_minor": 4
}
