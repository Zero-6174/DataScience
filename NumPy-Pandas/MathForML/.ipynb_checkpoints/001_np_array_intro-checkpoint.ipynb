{
 "cells": [
  {
   "cell_type": "code",
   "execution_count": 1,
   "id": "8a1b6058-a9d4-4f1e-9c89-7d400ca016e9",
   "metadata": {},
   "outputs": [],
   "source": [
    "import numpy as np"
   ]
  },
  {
   "cell_type": "code",
   "execution_count": 2,
   "id": "823901cb-1d1a-45fb-8795-0f5b067aac11",
   "metadata": {},
   "outputs": [],
   "source": [
    "A = np.array([[1, 2], [3, 0]])"
   ]
  },
  {
   "cell_type": "code",
   "execution_count": 3,
   "id": "9c78d512-bb61-43e5-85f9-4776b27b8857",
   "metadata": {},
   "outputs": [
    {
     "name": "stdout",
     "output_type": "stream",
     "text": [
      "(2, 2)\n",
      "[1 3]\n",
      "[3 0]\n"
     ]
    }
   ],
   "source": [
    "print (A.shape)\n",
    "print (A[:,0])  #first column\n",
    "print (A[1,:])  #sefirst column"
   ]
  },
  {
   "cell_type": "code",
   "execution_count": 4,
   "id": "6bd6815e-09f1-4878-8230-0d364cbcc803",
   "metadata": {},
   "outputs": [
    {
     "name": "stdout",
     "output_type": "stream",
     "text": [
      "[[1 3]\n",
      " [4 2]]\n",
      "[[-2  5]\n",
      " [ 0  5]]\n"
     ]
    }
   ],
   "source": [
    "A1 = np.array([[1, 2],\n",
    "               [5, 0]])\n",
    "\n",
    "B1 = np.array([[0, 1],\n",
    "               [-1, 2]])\n",
    "\n",
    "print (A1 + B1)\n",
    "\n",
    "print (np.dot(A1, B1))"
   ]
  },
  {
   "cell_type": "code",
   "execution_count": 5,
   "id": "974fa42c-e0d0-4dba-b7cf-94894a9325ca",
   "metadata": {},
   "outputs": [
    {
     "data": {
      "text/plain": [
       "array([[1, 2],\n",
       "       [5, 0]])"
      ]
     },
     "execution_count": 5,
     "metadata": {},
     "output_type": "execute_result"
    }
   ],
   "source": [
    "A1"
   ]
  },
  {
   "cell_type": "code",
   "execution_count": 6,
   "id": "5eafc9ce-9c2d-44a8-87e6-db370733ca61",
   "metadata": {},
   "outputs": [
    {
     "name": "stdout",
     "output_type": "stream",
     "text": [
      "[[1 5]\n",
      " [2 0]]\n"
     ]
    }
   ],
   "source": [
    "print (A1.T)"
   ]
  },
  {
   "cell_type": "code",
   "execution_count": 7,
   "id": "6f1aa59b-ef8a-43c8-acee-4291f9206156",
   "metadata": {},
   "outputs": [],
   "source": [
    "invA1 = np.linalg.inv(A1)"
   ]
  },
  {
   "cell_type": "code",
   "execution_count": 8,
   "id": "08828307-9737-4e64-bdfa-f0b28019108b",
   "metadata": {},
   "outputs": [
    {
     "name": "stdout",
     "output_type": "stream",
     "text": [
      "[[1. 0.]\n",
      " [0. 1.]]\n"
     ]
    }
   ],
   "source": [
    "print (np.dot(A1, invA1))"
   ]
  },
  {
   "cell_type": "code",
   "execution_count": 11,
   "id": "9dea6e7c-ba65-4c78-88ec-0be5ee8e6a73",
   "metadata": {},
   "outputs": [],
   "source": [
    "a = np.array([[2, 3], [-1, 4]])"
   ]
  },
  {
   "cell_type": "code",
   "execution_count": 13,
   "id": "e5f05c27-9456-41ab-9f97-b21fa550a842",
   "metadata": {},
   "outputs": [
    {
     "name": "stdout",
     "output_type": "stream",
     "text": [
      "11.000000000000002\n"
     ]
    }
   ],
   "source": [
    "print(np.linalg.det(a))"
   ]
  },
  {
   "cell_type": "markdown",
   "id": "d4fe5c80-36ab-4ed3-8f11-a97524d62699",
   "metadata": {},
   "source": [
    "### System of Linear Equations"
   ]
  },
  {
   "cell_type": "code",
   "execution_count": 15,
   "id": "5b040d97-8a0f-46da-9051-cdb267f26c98",
   "metadata": {},
   "outputs": [
    {
     "name": "stdout",
     "output_type": "stream",
     "text": [
      "[ 0.  0. -1.]\n"
     ]
    }
   ],
   "source": [
    "A = np.array([[1, 5, -1],\n",
    "              [2, 3, -2],\n",
    "              [-3, 4, 0]\n",
    "             ])\n",
    "\n",
    "b = np.array([1, 2, 0])\n",
    "\n",
    "invA = np.linalg.inv(A)\n",
    "\n",
    "x = np.dot(invA, b)\n",
    "\n",
    "print(x)"
   ]
  },
  {
   "cell_type": "code",
   "execution_count": 17,
   "id": "01fd131b-48a0-490c-b620-772a6e9b0cd6",
   "metadata": {},
   "outputs": [
    {
     "name": "stdout",
     "output_type": "stream",
     "text": [
      "[1. 2. 0.]\n"
     ]
    }
   ],
   "source": [
    "#verify\n",
    "\n",
    "print (np.dot(A, x)) Í"
   ]
  }
 ],
 "metadata": {
  "kernelspec": {
   "display_name": "Python 3 (ipykernel)",
   "language": "python",
   "name": "python3"
  },
  "language_info": {
   "codemirror_mode": {
    "name": "ipython",
    "version": 3
   },
   "file_extension": ".py",
   "mimetype": "text/x-python",
   "name": "python",
   "nbconvert_exporter": "python",
   "pygments_lexer": "ipython3",
   "version": "3.9.12"
  }
 },
 "nbformat": 4,
 "nbformat_minor": 5
}
